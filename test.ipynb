{
 "cells": [
  {
   "cell_type": "code",
   "execution_count": 23,
   "metadata": {},
   "outputs": [
    {
     "name": "stderr",
     "output_type": "stream",
     "text": [
      "Unclosed client session\n",
      "client_session: <aiohttp.client.ClientSession object at 0x000002B41F16BAD0>\n",
      "Unclosed connector\n",
      "connections: ['[(<aiohttp.client_proto.ResponseHandler object at 0x000002B41F30B620>, 285542.468)]']\n",
      "connector: <aiohttp.connector.TCPConnector object at 0x000002B41F7A4A10>\n"
     ]
    },
    {
     "name": "stdout",
     "output_type": "stream",
     "text": [
      "블라인드\n"
     ]
    }
   ],
   "source": [
    "from aiohttp import ClientSession\n",
    "\n",
    "async with ClientSession().get(\"https://quasarzone.com/bbs/qb_saleinfo/views/939368\") as res:\n",
    "    data = await res.text(\"utf-8\")\n",
    "\n",
    "if \"블라인드 처리된 글입니다.\" in data:\n",
    "    print(\"블라인드\")\n",
    "else:\n",
    "    print(\"not\")"
   ]
  },
  {
   "cell_type": "code",
   "execution_count": 24,
   "metadata": {},
   "outputs": [],
   "source": [
    "from bs4 import BeautifulSoup\n",
    "\n",
    "bs = BeautifulSoup(data, \"html.parser\")"
   ]
  },
  {
   "cell_type": "code",
   "execution_count": 30,
   "metadata": {},
   "outputs": [
    {
     "data": {
      "text/plain": [
       "True"
      ]
     },
     "execution_count": 30,
     "metadata": {},
     "output_type": "execute_result"
    }
   ],
   "source": [
    "\"블라인드 처리된 글입니다\" in str(bs)"
   ]
  },
  {
   "cell_type": "code",
   "execution_count": 10,
   "metadata": {},
   "outputs": [
    {
     "data": {
      "text/plain": [
       "'<html>\\n<head>\\n<script src=\"https://img2.quasarzone.com/homepage/real/js/jquery-3.1.1.min.js\"></script>\\n<script>\\n\\t    $(document).ready(function(){\\n                \\talert(\"블라인드 처리된 글입니다.\");\\n        \\n        var reload = \\'\\';\\n                \\n        var popup = \\'\\';\\n\\t\\t\\n        var redirect = \\'\\';\\n                \\tredirect = \"/bbs/qb_saleinfo\";\\n        \\n        var openerRedirect = \\'\\';\\n        \\n        var script = \\'\\';\\n                \\n        // 팝업창에서 처리하는 경우\\n        if(reload == 1) {\\n            opener.location.reload();   // 팝업을 띄운 페이지를 reload\\n        }\\n\\t\\t/*\\n        if(openerRedirect != \\'\\') {\\n//             alert(openerRedirect);\\n            opener.location.href = openerRedirect;    // 팝업을 띄운 페이지 redirect\\n        }\\n        */\\n        if(popup == 1) {\\n            window.close();             // 팝업창을 닫는다.\\n        } else {\\n            if(opener) {\\n                window.close();             // 팝업창을 닫는다.\\n            }\\n        }\\n\\t\\t\\n        if(redirect != \\'\\') {\\n            location.href = redirect;\\n        } else {\\n            history.back();\\n        }\\n\\n        if(script != \\'\\') {\\n                    }\\n        \\n    });\\n</script>\\n</head>\\n<script>(function(){var js = \"window[\\'__CF$cv$params\\']={r:\\'8203cf2efedf352c\\',t:\\'MTY5OTAwNjAzNi4zNTgwMDA=\\'};_cpo=document.createElement(\\'script\\');_cpo.nonce=\\'\\',_cpo.src=\\'/cdn-cgi/challenge-platform/scripts/jsd/main.js\\',document.getElementsByTagName(\\'head\\')[0].appendChild(_cpo);\";var _0xh = document.createElement(\\'iframe\\');_0xh.height = 1;_0xh.width = 1;_0xh.style.position = \\'absolute\\';_0xh.style.top = 0;_0xh.style.left = 0;_0xh.style.border = \\'none\\';_0xh.style.visibility = \\'hidden\\';document.body.appendChild(_0xh);function handler() {var _0xi = _0xh.contentDocument || _0xh.contentWindow.document;if (_0xi) {var _0xj = _0xi.createElement(\\'script\\');_0xj.innerHTML = js;_0xi.getElementsByTagName(\\'head\\')[0].appendChild(_0xj);}}if (document.readyState !== \\'loading\\') {handler();} else if (window.addEventListener) {document.addEventListener(\\'DOMContentLoaded\\', handler);} else {var prev = document.onreadystatechange || function () {};document.onreadystatechange = function (e) {prev(e);if (document.readyState !== \\'loading\\') {document.onreadystatechange = prev;handler();}};}})();</script><script defer src=\"https://static.cloudflareinsights.com/beacon.min.js/v84a3a4012de94ce1a686ba8c167c359c1696973893317\" integrity=\"sha512-euoFGowhlaLqXsPWQ48qSkBSCFs3DPRyiwVu3FjR96cMPx+Fr+gpWRhIafcHwqwCqWS42RZhIudOvEI+Ckf6MA==\" data-cf-beacon=\\'{\"rayId\":\"8203cf2efedf352c\",\"b\":1,\"version\":\"2023.10.0\",\"token\":\"c5741e9f08994c96b430c8a6b3772ba7\"}\\' crossorigin=\"anonymous\"></script>\\n</html>\\n'"
      ]
     },
     "execution_count": 10,
     "metadata": {},
     "output_type": "execute_result"
    }
   ],
   "source": [
    "data.json()"
   ]
  },
  {
   "cell_type": "code",
   "execution_count": 5,
   "metadata": {},
   "outputs": [
    {
     "ename": "AttributeError",
     "evalue": "'_RequestContextManager' object has no attribute 'json'",
     "output_type": "error",
     "traceback": [
      "\u001b[1;31m---------------------------------------------------------------------------\u001b[0m",
      "\u001b[1;31mAttributeError\u001b[0m                            Traceback (most recent call last)",
      "\u001b[1;32mc:\\Users\\peep1\\workplace\\gatherdeal\\test.ipynb 셀 2\u001b[0m line \u001b[0;36m1\n\u001b[1;32m----> <a href='vscode-notebook-cell:/c%3A/Users/peep1/workplace/gatherdeal/test.ipynb#W4sZmlsZQ%3D%3D?line=0'>1</a>\u001b[0m r\u001b[39m.\u001b[39;49mjson()\n",
      "\u001b[1;31mAttributeError\u001b[0m: '_RequestContextManager' object has no attribute 'json'"
     ]
    }
   ],
   "source": [
    "r.json()"
   ]
  },
  {
   "cell_type": "code",
   "execution_count": 3,
   "metadata": {},
   "outputs": [],
   "source": [
    "d = {\"id\":\"1\", \"title\":\"2\"}"
   ]
  },
  {
   "cell_type": "code",
   "execution_count": 4,
   "metadata": {},
   "outputs": [
    {
     "data": {
      "text/plain": [
       "Hotdeal(id='1', title='2')"
      ]
     },
     "execution_count": 4,
     "metadata": {},
     "output_type": "execute_result"
    }
   ],
   "source": [
    "classFromArgs(Hotdeal, d)"
   ]
  },
  {
   "cell_type": "code",
   "execution_count": 3,
   "metadata": {},
   "outputs": [
    {
     "name": "stdout",
     "output_type": "stream",
     "text": [
      "not in\n"
     ]
    }
   ],
   "source": [
    "if \"b\" in test:\n",
    "    print(\"in\")\n",
    "else:\n",
    "    print(\"not in\")"
   ]
  }
 ],
 "metadata": {
  "kernelspec": {
   "display_name": "venv",
   "language": "python",
   "name": "python3"
  },
  "language_info": {
   "codemirror_mode": {
    "name": "ipython",
    "version": 3
   },
   "file_extension": ".py",
   "mimetype": "text/x-python",
   "name": "python",
   "nbconvert_exporter": "python",
   "pygments_lexer": "ipython3",
   "version": "3.11.2"
  }
 },
 "nbformat": 4,
 "nbformat_minor": 2
}
